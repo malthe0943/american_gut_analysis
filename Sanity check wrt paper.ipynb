{
 "cells": [
  {
   "cell_type": "code",
   "execution_count": 1,
   "metadata": {},
   "outputs": [
    {
     "name": "stderr",
     "output_type": "stream",
     "text": [
      "c:\\Users\\malth\\OneDrive - University of Copenhagen\\Bachelor\\programs\\true_preprocessing.py:34: FutureWarning: Support for multi-dimensional indexing (e.g. `obj[:, None]`) is deprecated and will be removed in a future version.  Convert to a numpy array before indexing instead.\n",
      "  X_4 = X_3 / np.sum(X_3, axis=1)[:, np.newaxis]\n"
     ]
    }
   ],
   "source": [
    "%load_ext autoreload\n",
    "%autoreload 2\n",
    "\n",
    "from functions import *\n",
    "from tqdm import *\n",
    "\n",
    "import numpy as np\n",
    "import pandas as pd\n",
    "from sklearn.decomposition import PCA\n",
    "from sklearn.manifold import TSNE\n",
    "from sklearn.linear_model import Lasso\n",
    "from sklearn.ensemble import RandomForestRegressor\n",
    "from sklearn.model_selection import train_test_split, KFold, cross_val_score, GridSearchCV\n",
    "from sklearn.metrics import mean_squared_error, make_scorer, r2_score\n",
    "from sklearn.dummy import DummyRegressor\n",
    "from sklearn.preprocessing import LabelEncoder\n",
    "\n",
    "from xgboost import XGBRegressor, plot_importance\n",
    "from sklearn.svm import SVR\n",
    "\n",
    "import matplotlib.pyplot as plt\n",
    "import matplotlib.lines as mlines\n",
    "import seaborn as sns\n",
    "\n",
    "from collections import defaultdict\n",
    "\n",
    "import true_preprocessing"
   ]
  },
  {
   "attachments": {},
   "cell_type": "markdown",
   "metadata": {},
   "source": [
    "# Sanity check specific functions"
   ]
  },
  {
   "cell_type": "code",
   "execution_count": 2,
   "metadata": {},
   "outputs": [],
   "source": [
    "scorer = make_scorer(mean_squared_error)"
   ]
  },
  {
   "cell_type": "code",
   "execution_count": 3,
   "metadata": {},
   "outputs": [],
   "source": [
    "def dummy_CV(X, y):\n",
    "    ref_scores = []\n",
    "    for i in range(5):\n",
    "        kf = KFold(n_splits=5, shuffle=True, random_state=1)\n",
    "        dummy = DummyRegressor(strategy=\"mean\")\n",
    "        ref_scores.append(np.mean(cross_val_score(dummy, X, y, scoring=scorer, cv=kf)))\n",
    "    return ref_scores\n",
    "\n",
    "def SVM_CV(X, y):\n",
    "    # Define outer cross-validation splits\n",
    "    cv_outer = KFold(n_splits=5, shuffle=True, random_state=1)\n",
    "\n",
    "    # Create lists to store results\n",
    "    results_params = []; results_scores = []\n",
    "\n",
    "    # Perform nested cross-validation\n",
    "    for train_ix, test_ix in cv_outer.split(X):\n",
    "        # Split data\n",
    "        X_train, X_test = X.iloc[train_ix, :], X.iloc[test_ix, :]\n",
    "        y_train, y_test = y.iloc[train_ix], y.iloc[test_ix]\n",
    "        \n",
    "        # Configure the inner cross-validation procedure\n",
    "        cv_inner = KFold(n_splits=5, shuffle=True, random_state=1)\n",
    "        \n",
    "        # Define the model and parameters\n",
    "        model = SVR()\n",
    "        parameters = {\"C\": [1, 10, 100], \"gamma\": [.001, .01, .1]}\n",
    "\n",
    "        # Define and do search\n",
    "        search = GridSearchCV(model, parameters, scoring=scorer, cv=cv_inner, refit=True, n_jobs=6)\n",
    "        result = search.fit(X_train, y_train)\n",
    "        \n",
    "        # Get the best performing model fit on the whole training set and evaluate it on the holdout set\n",
    "        best_model = result.best_estimator_\n",
    "        yhat = best_model.predict(X_test)\n",
    "        \n",
    "        # Evaluate the model\n",
    "        acc = mean_squared_error(y_test, yhat)\n",
    "        \n",
    "        # Report progress\n",
    "        print('>acc=%.3f, est=%.3f, cfg=%s' % (acc, result.best_score_, result.best_params_))\n",
    "        #outer_results.append([acc, result.best_score_, result.best_params_])\n",
    "        results_scores.append(acc)\n",
    "        results_params.append(result.best_params_)\n",
    "    return results_scores, results_params\n",
    "\n",
    "    # Summarize the estimated performance of the model\n",
    "    #print('Accuracy: %.3f (%.3f)' % (np.mean(outer_results), np.std(outer_results)))\n",
    "\n",
    "def logistic_CV(X, y):\n",
    "    # Define outer cross-validation splits\n",
    "    cv_outer = KFold(n_splits=5, shuffle=True, random_state=1)\n",
    "\n",
    "    # Create lists to store results\n",
    "    results_params = []; results_scores = []\n",
    "    # Perform nested cross-validation\n",
    "    for train_ix, test_ix in cv_outer.split(X):\n",
    "        # Split data\n",
    "        X_train, X_test = X.iloc[train_ix, :], X.iloc[test_ix, :]\n",
    "        y_train, y_test = y.iloc[train_ix], y.iloc[test_ix]\n",
    "        \n",
    "        # Configure the inner cross-validation procedure\n",
    "        cv_inner = KFold(n_splits=5, shuffle=True, random_state=1)\n",
    "        \n",
    "        # Define the model and parameters\n",
    "        model = Lasso()\n",
    "        parameters = {'alpha':list(np.logspace(-4,2,7,10))}\n",
    "\n",
    "        # Define and do search\n",
    "        search = GridSearchCV(model, parameters, scoring=scorer, cv=cv_inner, refit=True, n_jobs=6)\n",
    "        result = search.fit(X_train, y_train)\n",
    "        \n",
    "        # Get the best performing model fit on the whole training set and evaluate it on the holdout set\n",
    "        best_model = result.best_estimator_\n",
    "        yhat = best_model.predict(X_test)\n",
    "        \n",
    "        # Evaluate the model\n",
    "        acc = mean_squared_error(y_test, yhat)\n",
    "        \n",
    "        # Report progress\n",
    "        print('>acc=%.3f, est=%.3f, cfg=%s' % (acc, result.best_score_, result.best_params_))\n",
    "        results_scores.append(acc)\n",
    "        results_params.append(result.best_params_)\n",
    "    return results_scores, results_params\n",
    "\n",
    "def rf_CV(X, y):\n",
    "    # Define outer cross-validation splits\n",
    "    cv_outer = KFold(n_splits=5, shuffle=True, random_state=1)\n",
    "\n",
    "    # Create lists to store results\n",
    "    results_params = []; results_scores = []\n",
    "\n",
    "    # Perform nested cross-validation\n",
    "    for train_ix, test_ix in cv_outer.split(X):\n",
    "        # Split data\n",
    "        X_train, X_test = X.iloc[train_ix, :], X.iloc[test_ix, :]\n",
    "        y_train, y_test = y.iloc[train_ix], y.iloc[test_ix]\n",
    "        \n",
    "        # Configure the inner cross-validation procedure\n",
    "        cv_inner = KFold(n_splits=5, shuffle=True, random_state=1)\n",
    "        \n",
    "        # Define the model and parameters\n",
    "        model = RandomForestRegressor(random_state=1, n_jobs=6)\n",
    "        parameters = {'n_estimators':np.linspace(50,1000,4,True,dtype=int), 'max_features':np.linspace(0.05,0.9,4,True)}\n",
    "\n",
    "        # Define and do search\n",
    "        search = GridSearchCV(model, parameters, scoring=scorer, cv=cv_inner, refit=True, n_jobs=6)\n",
    "        result = search.fit(X_train, y_train)\n",
    "        \n",
    "        # Get the best performing model fit on the whole training set and evaluate it on the holdout set\n",
    "        best_model = result.best_estimator_\n",
    "        yhat = best_model.predict(X_test)\n",
    "        \n",
    "        # Evaluate the model\n",
    "        acc = mean_squared_error(y_test, yhat)\n",
    "        \n",
    "        # Report progress\n",
    "        print('>acc=%.3f, est=%.3f, cfg=%s' % (acc, result.best_score_, result.best_params_))\n",
    "        results_scores.append(acc)\n",
    "        results_params.append(result.best_params_)\n",
    "    return results_scores, results_params\n",
    "\n",
    "def rename_columns(X):\n",
    "    new_columns = [f\"feature_{i}\" for i in range(len(X.columns))]\n",
    "    X.columns = new_columns\n",
    "    return X\n",
    "\n",
    "def XGB_CV(X, y):\n",
    "    #Transform classes to numbers and feature names to feature_0, feature_1 and so on\n",
    "    le = LabelEncoder()\n",
    "    y_XGB = pd.Series(le.fit_transform(y))\n",
    "    X = rename_columns(X)\n",
    "    \n",
    "    # Define outer cross-validation splits\n",
    "    cv_outer = KFold(n_splits=5, shuffle=True, random_state=1)\n",
    "\n",
    "    # Create lists to store results\n",
    "    results_params = []; results_scores = []\n",
    "\n",
    "    # Perform nested cross-validation\n",
    "    for train_ix, test_ix in cv_outer.split(X):\n",
    "        # Split data\n",
    "        X_train, X_test = X.iloc[train_ix, :], X.iloc[test_ix, :]\n",
    "        y_train, y_test = y_XGB.iloc[train_ix], y_XGB.iloc[test_ix]\n",
    "        \n",
    "        # Configure the inner cross-validation procedure\n",
    "        cv_inner = KFold(n_splits=5, shuffle=True, random_state=1)\n",
    "        \n",
    "        # Define the model and parameters\n",
    "        model = XGBRegressor(colsample_bytree=0.02, reg_lambda=1, objective='multi:softmax')\n",
    "        parameters = {'max_depth': [2, 4, 8],\n",
    "              'learning_rate': [0.5, 0.15, 0.3],\n",
    "              #'subsample': np.arange(0.5, 1.0, 0.1),\n",
    "              #'colsample_bytree': np.arange(0.4, 1.0, 0.2),\n",
    "              #'colsample_bylevel': np.arange(0.4, 1.0, 0.2),\n",
    "              'n_estimators': [100, 500, 1000]}\n",
    "\n",
    "        # Define and do search\n",
    "        search = GridSearchCV(model, parameters, scoring=scorer, cv=cv_inner, refit=True, n_jobs=6)\n",
    "        result = search.fit(X_train, y_train)\n",
    "        \n",
    "        # Get the best performing model fit on the whole training set and evaluate it on the holdout set\n",
    "        best_model = result.best_estimator_\n",
    "        yhat = best_model.predict(X_test)\n",
    "        \n",
    "        # Evaluate the model\n",
    "        acc = mean_squared_error(y_test, yhat)\n",
    "        \n",
    "        # Report progress\n",
    "        print('>acc=%.3f, est=%.3f, cfg=%s' % (acc, result.best_score_, result.best_params_))\n",
    "        results_scores.append(acc)\n",
    "        results_params.append(result.best_params_)\n",
    "    return results_scores, results_params"
   ]
  },
  {
   "attachments": {},
   "cell_type": "markdown",
   "metadata": {},
   "source": [
    "# Preprocessing"
   ]
  },
  {
   "attachments": {},
   "cell_type": "markdown",
   "metadata": {},
   "source": [
    "### Old code"
   ]
  },
  {
   "cell_type": "code",
   "execution_count": 3,
   "metadata": {},
   "outputs": [],
   "source": [
    "X_data = pd.read_csv('X_data.csv', low_memory=False)\n",
    "X_data = X_data.rename(columns = {'Unnamed: 0':'id'}) #Changing name of id-column\n",
    "X_data = X_data.loc[:,(X_data != 0).any(axis=0)] #Removing all all-zero columns"
   ]
  },
  {
   "cell_type": "code",
   "execution_count": 4,
   "metadata": {},
   "outputs": [],
   "source": [
    "meta_data = pd.read_csv('meta_data.csv', low_memory=False)\n",
    "meta_data = meta_data.rename(columns = {'Unnamed: 0':'id'}) #Changing name of id-column"
   ]
  },
  {
   "cell_type": "code",
   "execution_count": 5,
   "metadata": {},
   "outputs": [],
   "source": [
    "list = []\n",
    "for column_name in X_data.columns:\n",
    "    column = X_data[column_name]\n",
    "    share = 1-(column == 0).sum()/len(X_data)\n",
    "    if share >= 0.25:\n",
    "        list.append(column_name)"
   ]
  },
  {
   "cell_type": "code",
   "execution_count": 6,
   "metadata": {},
   "outputs": [],
   "source": [
    "X_1 = X_data[list]"
   ]
  },
  {
   "cell_type": "code",
   "execution_count": 7,
   "metadata": {},
   "outputs": [],
   "source": [
    "#Keeps columns with median of non-zero values bigger than x\n",
    "list = []\n",
    "for column_name in X_1.columns:\n",
    "    if column_name != 'id':\n",
    "        non_zeros = X_1.loc[X_1[column_name] != 0, column_name]\n",
    "        if non_zeros.median() >= 5:\n",
    "            list.append(column_name)\n",
    "    else:\n",
    "        list.append(column_name)\n",
    "X_2 = X_1[list]"
   ]
  },
  {
   "cell_type": "code",
   "execution_count": 8,
   "metadata": {},
   "outputs": [],
   "source": [
    "X_3 = my_multiplicative_replacement(X_2.iloc[:,1:])\n",
    "X_4 = my_clr(X_3.astype(float))\n",
    "X_5 = pd.concat([pd.DataFrame(X_4),meta_data['bmi'], meta_data['country']],axis=1)"
   ]
  },
  {
   "cell_type": "code",
   "execution_count": 9,
   "metadata": {},
   "outputs": [
    {
     "name": "stderr",
     "output_type": "stream",
     "text": [
      "C:\\Users\\malth\\AppData\\Local\\Temp\\ipykernel_15584\\4153994901.py:6: DeprecationWarning: In a future version, `df.iloc[:, i] = newvals` will attempt to set the values inplace instead of always setting a new array. To retain the old behavior, use either `df[df.columns[i]] = newvals` or, if columns are non-unique, `df.isetitem(i, newvals)`\n",
      "  X_8.iloc[:,-1] = X_8.iloc[:,-1].astype('float')\n"
     ]
    }
   ],
   "source": [
    "X_6 = remove_rows_where_column_nan(X_5,'bmi')\n",
    "X_7 = keep_rows_where_column_specified(X_6,'country','United Kingdom')\n",
    "X_7 = X_7.iloc[:,:280]\n",
    "X_8 = remove_rows_where_column_specified(X_7,'bmi','Unspecified')\n",
    "X_8 = remove_rows_where_column_specified(X_8,'bmi','unknown')\n",
    "X_8.iloc[:,-1] = X_8.iloc[:,-1].astype('float')"
   ]
  },
  {
   "cell_type": "code",
   "execution_count": 10,
   "metadata": {},
   "outputs": [],
   "source": [
    "#random_forest_tester(X_8,meta_data,concat_bool=False,target_column='bmi',condition_column=None,scoring_function='r2')"
   ]
  },
  {
   "cell_type": "code",
   "execution_count": 11,
   "metadata": {},
   "outputs": [
    {
     "data": {
      "text/plain": [
       "array([2.52800e+01, 3.67300e+01, 2.45400e+01, 1.97200e+01, 1.86500e+01,\n",
       "       2.97600e+01, 2.19500e+01, 2.39400e+01, 3.41100e+01, 2.67100e+01,\n",
       "       2.19700e+01, 2.89000e+01, 3.81200e+01, 1.92700e+01, 2.43300e+01,\n",
       "       2.91200e+01, 2.92900e+01, 3.19200e+01, 1.86100e+01, 2.56500e+01,\n",
       "       2.56100e+01, 3.35900e+01, 2.35900e+01, 2.47500e+01, 2.20500e+01,\n",
       "       2.26000e+01, 2.42200e+01, 1.94700e+01, 2.68400e+01, 2.67500e+01,\n",
       "       2.10600e+01, 2.00200e+01, 2.26600e+01, 2.10500e+01, 2.26500e+01,\n",
       "       3.01000e+01, 2.43800e+01, 1.28900e+01, 3.75500e+01, 1.75100e+01,\n",
       "       1.96600e+01, 2.70000e-01, 2.26400e+01, 3.86000e+01, 2.67800e+01,\n",
       "       1.96800e+01, 2.49600e+01, 1.88300e+01, 2.10700e+01, 2.66300e+01,\n",
       "       2.44600e+01, 4.23900e+01, 2.53900e+01, 2.39600e+01, 2.02000e+01,\n",
       "       2.23200e+01, 2.97700e+01, 2.78200e+01, 2.04800e+01, 2.31700e+01,\n",
       "       2.31500e+01, 2.57300e+01, 1.60500e+01, 2.64700e+01, 2.65800e+01,\n",
       "       2.47800e+01, 2.35100e+01, 2.36700e+01, 1.81000e+01, 2.09000e+01,\n",
       "       1.90100e+01, 3.03800e+01, 2.35500e+01, 2.48400e+01, 2.20700e+01,\n",
       "       2.31900e+01, 1.56200e+01, 3.40600e+01, 1.91000e+01, 1.59700e+01,\n",
       "       2.00700e+01, 2.02400e+01, 2.52400e+01, 3.39100e+01, 2.53100e+01,\n",
       "       2.18000e+01, 2.02000e+00, 3.22200e+01, 2.45800e+01, 3.18400e+01,\n",
       "       2.28600e+01, 2.62300e+01, 2.00500e+01, 2.61100e+01, 2.30000e-01,\n",
       "       2.07400e+01, 2.59000e+01, 1.63500e+01, 2.78900e+01, 2.07500e+01,\n",
       "       2.13500e+01, 1.50400e+01, 3.33200e+01, 1.88000e+01, 1.90800e+01,\n",
       "       2.71200e+01, 2.98400e+01, 1.72300e+01, 4.17800e+01, 2.05500e+01,\n",
       "       2.13000e+01, 1.95700e+01, 2.19100e+01, 1.57500e+01, 2.03100e+01,\n",
       "       9.03000e+00, 1.99000e+01, 2.30100e+01, 2.17100e+01, 2.72200e+01,\n",
       "       1.10900e+01, 2.43400e+01, 1.45000e+01, 2.41200e+01, 2.34600e+01,\n",
       "       2.82000e+01, 2.05200e+01, 2.15200e+01, 2.27600e+01, 2.28100e+01,\n",
       "       2.59900e+01, 2.44200e+01, 2.74400e+01, 2.21000e+01, 2.70600e+01,\n",
       "       2.40900e+01, 2.32400e+01, 2.82800e+01, 3.15600e+01, 2.69100e+01,\n",
       "       2.83300e+01, 2.05600e+01, 2.36600e+01, 2.18600e+01, 2.66600e+01,\n",
       "       1.97300e+01, 2.83200e+01, 3.01200e+01, 2.42100e+01, 2.55300e+01,\n",
       "       2.22700e+01, 2.85300e+01, 2.66800e+01, 2.09700e+01, 2.07600e+01,\n",
       "       2.72500e+01, 2.01600e+01, 2.98600e+01, 2.36300e+01, 2.74800e+01,\n",
       "       2.11100e+01, 2.17200e+01, 2.28300e+01, 2.27100e+01, 3.36600e+01,\n",
       "       2.44400e+01, 2.95600e+01, 1.95600e+01, 2.13700e+01, 2.74700e+01,\n",
       "       1.50880e+02, 3.36400e+01, 2.44500e+01, 2.00100e+01, 2.15300e+01,\n",
       "       2.63200e+01, 1.90300e+01, 2.72900e+01, 2.83400e+01, 2.06600e+01,\n",
       "       2.29600e+01, 2.08000e+01, 2.05800e+01, 2.12900e+01, 2.86500e+01,\n",
       "       2.30200e+01, 2.37400e+01, 2.10900e+01, 1.94800e+01, 1.98000e+01,\n",
       "       2.11400e+01, 3.07000e+01, 2.40100e+01, 2.11900e+01, 3.12100e+01,\n",
       "       2.73200e+01, 2.11500e+01, 2.48600e+01, 2.75100e+01, 2.41600e+01,\n",
       "       2.41700e+01, 2.80900e+01, 2.63100e+01, 2.03300e+01, 2.46800e+01,\n",
       "       2.56200e+01, 2.68500e+01, 2.70200e+01, 1.83400e+01, 2.36000e+01,\n",
       "       2.43100e+01, 2.48200e+01, 2.09500e+01, 2.60400e+01, 1.79000e+01,\n",
       "       2.14830e+02, 2.04700e+01, 2.00600e+01, 1.52600e+01, 1.99200e+01,\n",
       "       2.09900e+01, 2.53400e+01, 2.59400e+01, 2.92200e+01, 2.17400e+01,\n",
       "       2.24500e+01, 2.91800e+01, 2.61500e+01, 3.25900e+01, 2.08100e+01,\n",
       "       2.71000e+01, 2.17800e+01, 2.16300e+01, 2.57800e+01, 2.34400e+01,\n",
       "       2.41500e+01, 2.58300e+01, 6.24800e+01, 2.07000e+01, 2.49900e+01,\n",
       "       2.49000e+01, 2.25000e+01, 1.73000e+01, 2.14600e+01, 2.40300e+01,\n",
       "       2.20300e+01, 2.06900e+01, 2.78400e+01, 2.28800e+01, 2.55400e+01,\n",
       "       2.33400e+01, 2.44300e+01, 2.62100e+01, 2.02800e+01, 1.93500e+01,\n",
       "       1.70100e+01, 1.87500e+01, 2.44900e+01, 2.80000e-01, 2.24800e+01,\n",
       "       2.70400e+01, 1.37800e+01, 1.81700e+01, 2.59700e+01, 2.34100e+01,\n",
       "       2.68800e+01, 2.23800e+01, 2.09300e+01, 2.30300e+01, 2.11200e+01,\n",
       "       2.52100e+01, 4.44000e+00, 3.19500e+01, 2.27200e+01, 2.42700e+01,\n",
       "       2.20400e+01, 3.95400e+01, 2.12300e+01, 2.09400e+01, 2.65100e+01,\n",
       "       2.90400e+01, 2.31300e+01, 2.03400e+01, 3.08200e+01, 2.79700e+01,\n",
       "       2.08900e+01, 2.27800e+01, 2.73400e+01, 2.63600e+01, 2.46600e+01,\n",
       "       2.29900e+01, 2.41400e+01, 2.39900e+01, 2.34800e+01, 2.24100e+01,\n",
       "       2.48000e+01, 2.33100e+01, 2.50600e+01, 2.14800e+01, 1.98300e+01,\n",
       "       2.64800e+01, 2.47300e+01, 3.22900e+01, 1.36700e+01, 1.98100e+01,\n",
       "       2.67600e+01, 1.73600e+01, 1.14900e+01, 2.50800e+01, 2.06000e+01,\n",
       "       2.02900e+01, 4.58300e+01, 2.23500e+01, 2.06700e+01, 2.01900e+01,\n",
       "       2.87600e+01, 4.01200e+01, 2.51800e+01, 2.52600e+01, 2.61800e+01,\n",
       "       2.94100e+01, 2.36100e+01, 3.37800e+01, 2.05400e+01, 2.30400e+01,\n",
       "       2.63000e+01, 2.94200e+01, 1.97500e+01, 2.16000e+01, 2.25900e+01,\n",
       "       1.84200e+01, 2.22300e+01, 2.44800e+01, 3.95700e+01, 2.44100e+01,\n",
       "       2.81200e+01, 2.98500e+01, 2.11300e+01, 2.10800e+01, 1.88100e+01,\n",
       "       1.75300e+01, 2.01100e+01, 2.00000e+01, 2.49100e+01, 1.79700e+01,\n",
       "       2.75604e+03, 2.84100e+01, 2.25800e+01, 2.64300e+01, 2.25300e+01,\n",
       "       2.34360e+02, 2.83100e+01, 1.85200e+01, 4.25100e+01, 2.58500e+01,\n",
       "       3.18300e+01, 2.35300e+01, 2.19300e+01, 1.79200e+01, 2.13400e+01,\n",
       "       2.33600e+01, 2.02500e+01, 2.21300e+01, 2.05700e+01, 2.50900e+01,\n",
       "       3.93800e+01, 2.51600e+01, 2.01200e+01, 1.82400e+01, 2.22400e+01,\n",
       "       2.62900e+01, 3.71200e+01, 2.21400e+01, 5.84800e+01, 6.25000e+01,\n",
       "       2.51000e+01, 2.34200e+01, 3.57400e+01, 1.94400e+01, 2.80800e+01,\n",
       "       1.91300e+01, 4.03000e+00, 2.81700e+01, 2.60100e+01, 2.22200e+01,\n",
       "       1.92200e+01, 1.60000e+01, 2.76300e+01, 4.35600e+01, 1.91400e+01,\n",
       "       2.04300e+01, 2.69600e+01, 2.79400e+01, 4.13500e+01, 2.92700e+01,\n",
       "       1.97100e+01, 2.09600e+01, 1.95300e+01, 2.16100e+01, 2.85200e+01,\n",
       "       3.17900e+01, 2.08300e+01, 2.27700e+01, 1.77600e+01, 2.05000e+01,\n",
       "       2.45600e+01, 2.77400e+01, 1.83700e+01, 1.93300e+01, 1.81800e+01,\n",
       "       3.43100e+01, 2.12600e+01, 9.63000e+00, 1.74000e+01, 1.99600e+01,\n",
       "       2.87300e+01, 1.98400e+01, 1.99500e+01, 2.60500e+01, 5.22600e+01,\n",
       "       2.68900e+01, 2.42000e+01, 2.37100e+01, 2.03700e+01, 1.84700e+01,\n",
       "       1.89300e+01, 2.76200e+01, 3.12400e+01, 2.58600e+01, 2.79200e+01,\n",
       "       3.40100e+01, 2.86700e+01, 2.23100e+01, 2.77800e+01, 1.98800e+01,\n",
       "       2.33200e+01, 2.20900e+01, 2.64900e+01, 2.37300e+01, 3.87400e+01,\n",
       "       2.32500e+01, 1.91100e+01, 2.03200e+01, 2.57000e+01, 2.57100e+01,\n",
       "       2.49300e+01, 2.22100e+01, 2.56300e+01, 1.90200e+01, 2.40700e+01,\n",
       "       1.71800e+01, 2.94300e+01, 2.43000e+01, 1.90500e+01, 1.76900e+01,\n",
       "       2.27900e+01, 2.87000e+01, 1.66500e+01, 1.96300e+01, 2.85000e+01,\n",
       "       2.33700e+01, 2.20100e+01, 1.41100e+01, 1.30200e+01, 1.24000e+01,\n",
       "       2.32600e+01, 2.56800e+01, 4.19600e+01, 2.62600e+01, 1.97800e+01,\n",
       "       3.16200e+01, 2.26700e+01, 2.98100e+01, 2.47400e+01, 1.93900e+01,\n",
       "       4.01600e+01, 7.33700e+01, 1.76300e+01, 2.15500e+01, 1.53000e+01,\n",
       "       2.34300e+01, 2.31100e+01, 3.01389e+03, 1.50000e+01, 2.15100e+01,\n",
       "       3.62900e+01, 3.29900e+01, 2.77600e+01, 2.47600e+01, 2.48100e+01,\n",
       "       2.23900e+01, 3.23200e+01, 3.95000e+00, 2.67000e+01, 2.56600e+01,\n",
       "       2.16200e+01, 2.33000e+01, 2.24200e+01, 2.10000e+01, 2.31400e+01,\n",
       "       1.98200e+01, 1.83100e+01, 2.05300e+01, 3.87000e+00, 2.11000e+01,\n",
       "       4.21600e+01, 1.89000e+01, 2.39200e+01, 4.46400e+01, 1.51200e+01,\n",
       "       1.68300e+01, 1.55500e+01, 2.91400e+01, 2.65200e+01, 2.37700e+01,\n",
       "       2.93800e+01, 1.58200e+01, 2.79800e+01, 2.36200e+01, 3.02700e+01,\n",
       "       2.07700e+01, 2.52000e+01, 3.65800e+01, 2.40200e+01, 2.86600e+01,\n",
       "       2.50000e+01, 2.38800e+01, 2.24900e+01, 2.48300e+01, 2.77700e+01,\n",
       "       2.53200e+01, 2.71800e+01, 2.28700e+01, 2.19800e+01, 2.54000e+01,\n",
       "       3.00500e+01, 3.69800e+01, 2.59500e+01, 2.65000e+01, 3.50200e+01,\n",
       "       2.72800e+01, 2.52500e+01, 2.63400e+01, 2.98000e+01, 3.44800e+01,\n",
       "       3.35300e+01, 2.41100e+01, 2.11600e+01, 2.96500e+01, 2.14100e+01,\n",
       "       1.85400e+01, 2.18700e+01, 2.46900e+01, 2.21500e+01, 2.14700e+01,\n",
       "       2.17500e+01, 2.35600e+01, 2.12200e+01, 1.96100e+01, 2.00900e+01,\n",
       "       2.45700e+01, 2.74600e+01, 2.57500e+01, 2.29500e+01, 2.08500e+01,\n",
       "       2.17700e+01, 2.66100e+01, 3.10000e+00, 3.10700e+01, 3.19300e+01,\n",
       "       1.68900e+01, 3.49500e+01, 2.43900e+01, 3.26100e+01, 2.73000e+01,\n",
       "       2.30500e+01, 2.76700e+01, 2.46200e+01, 2.63700e+01, 1.95800e+01,\n",
       "       2.71600e+01, 3.00600e+01, 1.93700e+01, 2.66000e+01, 3.59601e+03,\n",
       "       1.98500e+01, 2.81900e+01, 2.35800e+01, 2.41900e+01, 2.74000e+01,\n",
       "       2.90700e+01, 1.77800e+01, 1.67900e+01, 1.87300e+01, 2.59600e+01,\n",
       "       1.59900e+01, 1.59800e+01, 2.64000e+01, 1.95400e+01, 1.85900e+01])"
      ]
     },
     "execution_count": 11,
     "metadata": {},
     "output_type": "execute_result"
    }
   ],
   "source": [
    "X_8.iloc[:,-1].unique()"
   ]
  },
  {
   "cell_type": "code",
   "execution_count": 12,
   "metadata": {},
   "outputs": [],
   "source": [
    "X_9 = remove_rows_where_column_larger_than(X_8,'bmi',40)\n",
    "X_10 = remove_rows_where_column_lower_than(X_9,'bmi',16)\n",
    "X = X_10.iloc[:,:-1]; y = X_10.iloc[:,-1]\n",
    "X_train, X_test, y_train, y_test = train_test_split(X, y, train_size=0.9)"
   ]
  },
  {
   "attachments": {},
   "cell_type": "markdown",
   "metadata": {},
   "source": [
    "### New Code"
   ]
  },
  {
   "cell_type": "code",
   "execution_count": 4,
   "metadata": {},
   "outputs": [
    {
     "name": "stderr",
     "output_type": "stream",
     "text": [
      "C:\\Users\\malth\\AppData\\Local\\Temp\\ipykernel_15044\\3960294132.py:6: DeprecationWarning: In a future version, `df.iloc[:, i] = newvals` will attempt to set the values inplace instead of always setting a new array. To retain the old behavior, use either `df[df.columns[i]] = newvals` or, if columns are non-unique, `df.isetitem(i, newvals)`\n",
      "  X_4.iloc[:,-1] = X_4.iloc[:,-1].astype('float')\n"
     ]
    }
   ],
   "source": [
    "X_0 = pd.concat([pd.DataFrame(true_preprocessing.X),true_preprocessing.meta_data['bmi'],true_preprocessing.meta_data['country']],axis=1)\n",
    "X_1 = remove_rows_where_column_nan(X_0,'bmi')\n",
    "X_2 = remove_rows_where_column_specified(X_1,'bmi','Unspecified','bmi','other','bmi','unknown')\n",
    "X_3 = keep_rows_where_column_specified(X_2,'country','United Kingdom')\n",
    "X_4 = X_3.iloc[:,:-1]\n",
    "X_4.iloc[:,-1] = X_4.iloc[:,-1].astype('float')\n",
    "X_5 = remove_rows_where_column_larger_than(X_4,'bmi',40)\n",
    "X_6 = remove_rows_where_column_lower_than(X_5,'bmi',16)\n",
    "X = X_6.iloc[:,:-1]; y = X_6.iloc[:,-1]"
   ]
  },
  {
   "attachments": {},
   "cell_type": "markdown",
   "metadata": {},
   "source": [
    "# Old Code"
   ]
  },
  {
   "cell_type": "code",
   "execution_count": 18,
   "metadata": {},
   "outputs": [
    {
     "name": "stderr",
     "output_type": "stream",
     "text": [
      "100%|██████████| 20/20 [00:00<00:00, 47.69it/s]\n"
     ]
    }
   ],
   "source": [
    "ref_scores = []\n",
    "for i in tqdm(range(20)):\n",
    "    kf = KFold(n_splits=10, shuffle=True, random_state=i)\n",
    "    dummy = DummyRegressor(strategy=\"mean\")\n",
    "    ref_scores.append(np.mean(cross_val_score(dummy, X.iloc[:,1:], y, scoring=scorer, cv=kf)))\n",
    "    #print(\"Reference score: {}\".format(np.mean(ref_scores)))"
   ]
  },
  {
   "cell_type": "code",
   "execution_count": 19,
   "metadata": {},
   "outputs": [
    {
     "name": "stderr",
     "output_type": "stream",
     "text": [
      "100%|██████████| 20/20 [00:05<00:00,  3.68it/s]\n"
     ]
    }
   ],
   "source": [
    "from sklearn.svm import SVR\n",
    "from sklearn.preprocessing import StandardScaler\n",
    "\n",
    "svm_scores = []\n",
    "for i in tqdm(range(20)):\n",
    "    kf = KFold(n_splits=10, shuffle=True, random_state=i)\n",
    "    svm_model = SVR(kernel = 'rbf', C=1.0, epsilon=0.1)\n",
    "    svm_scores.append(np.mean(cross_val_score(svm_model, X.iloc[:,1:], y, scoring=scorer, cv=kf, n_jobs=-1)))\n",
    "    #print(\"SVM score: {}\".format(np.mean(svm_scores)))"
   ]
  },
  {
   "cell_type": "code",
   "execution_count": 20,
   "metadata": {},
   "outputs": [
    {
     "name": "stderr",
     "output_type": "stream",
     "text": [
      "100%|██████████| 20/20 [00:02<00:00,  6.89it/s]\n"
     ]
    }
   ],
   "source": [
    "from sklearn.linear_model import Lasso \n",
    "\n",
    "lasso_scores = []\n",
    "for i in tqdm(range(20)):\n",
    "    kf = KFold(n_splits=10, shuffle=True, random_state=i)\n",
    "    lasso_model = Lasso()\n",
    "    lasso_scores.append(np.mean(cross_val_score(lasso_model, X.iloc[:,1:], y, scoring=scorer, cv=kf, n_jobs=-1)))\n",
    "    #print(\"Linear Regression with L1 score: {}\".format(np.mean(lasso_scores)))"
   ]
  },
  {
   "cell_type": "code",
   "execution_count": 54,
   "metadata": {},
   "outputs": [
    {
     "name": "stderr",
     "output_type": "stream",
     "text": [
      "100%|██████████| 20/20 [23:09<00:00, 69.46s/it]\n"
     ]
    }
   ],
   "source": [
    "# random forest performance\n",
    "rf_scores = []\n",
    "for i in tqdm(range(20)):\n",
    "    kf = KFold(n_splits=10, shuffle=True, random_state=i)\n",
    "    rf_model = RandomForestRegressor(500)\n",
    "    rf_scores.append(np.mean(cross_val_score(rf_model, X.iloc[:,1:], y, scoring=scorer, cv=kf, n_jobs=-1)))\n",
    "    #print(\"Random forest score: {}\".format(np.mean(rf_scores)))"
   ]
  },
  {
   "cell_type": "code",
   "execution_count": 15,
   "metadata": {},
   "outputs": [
    {
     "name": "stderr",
     "output_type": "stream",
     "text": [
      "C:\\Users\\malth\\AppData\\Local\\Temp\\ipykernel_15044\\1988036143.py:2: FutureWarning: The default value of regex will change from True to False in a future version. In addition, single character regular expressions will *not* be treated as literal strings when regex=True.\n",
      "  X_tmp.columns = X_tmp.columns.str.replace('[','_')\n",
      "C:\\Users\\malth\\AppData\\Local\\Temp\\ipykernel_15044\\1988036143.py:3: FutureWarning: The default value of regex will change from True to False in a future version. In addition, single character regular expressions will *not* be treated as literal strings when regex=True.\n",
      "  X_tmp.columns = X_tmp.columns.str.replace(']','_')\n"
     ]
    }
   ],
   "source": [
    "X_tmp = X\n",
    "X_tmp.columns = X_tmp.columns.str.replace('[','_')\n",
    "X_tmp.columns = X_tmp.columns.str.replace(']','_')\n",
    "X_tmp.columns = X_tmp.columns.str.replace('<','_')"
   ]
  },
  {
   "cell_type": "code",
   "execution_count": 52,
   "metadata": {},
   "outputs": [
    {
     "name": "stderr",
     "output_type": "stream",
     "text": [
      "100%|██████████| 20/20 [01:33<00:00,  4.68s/it]"
     ]
    },
    {
     "name": "stdout",
     "output_type": "stream",
     "text": [
      "XGBoost Regressor score: 16.128018419841545\n"
     ]
    },
    {
     "name": "stderr",
     "output_type": "stream",
     "text": [
      "\n"
     ]
    }
   ],
   "source": [
    "# XGBoost performance\n",
    "XGB_scores = []\n",
    "for i in tqdm(range(20)):\n",
    "    kf = KFold(n_splits=10, shuffle=True, random_state=i)\n",
    "    XGB_model = XGBRegressor(colsample_bytree=0.66,learning_rate=0.15, max_depth=2, \n",
    "                        reg_lambda=1, n_estimators=500, objective='reg:squarederror')\n",
    "    XGB_scores.append(np.mean(cross_val_score(XGB_model, X_tmp.iloc[:,1:], y, scoring=scorer, cv=kf, n_jobs=-1)))\n",
    "#print(\"XGBoost Regressor score: {}\".format(np.mean(XGB_scores)))"
   ]
  },
  {
   "cell_type": "code",
   "execution_count": 53,
   "metadata": {},
   "outputs": [
    {
     "name": "stdout",
     "output_type": "stream",
     "text": [
      "XGBoost Regressor score: 16.128018419841545\n"
     ]
    }
   ],
   "source": [
    "print(\"XGBoost Regressor score: {}\".format(np.mean(XGB_scores)))"
   ]
  },
  {
   "attachments": {},
   "cell_type": "markdown",
   "metadata": {},
   "source": [
    "# New Code"
   ]
  },
  {
   "cell_type": "code",
   "execution_count": 34,
   "metadata": {},
   "outputs": [
    {
     "name": "stdout",
     "output_type": "stream",
     "text": [
      ">acc=17.441, est=16.729, cfg={'C': 100, 'gamma': 0.001}\n",
      ">acc=17.392, est=17.802, cfg={'C': 100, 'gamma': 0.001}\n",
      ">acc=18.047, est=16.764, cfg={'C': 100, 'gamma': 0.001}\n",
      ">acc=19.723, est=16.071, cfg={'C': 100, 'gamma': 0.001}\n",
      ">acc=15.166, est=17.989, cfg={'C': 100, 'gamma': 0.001}\n"
     ]
    }
   ],
   "source": [
    "svm_scores, svm_params = SVM_CV(X.iloc[:,1:],y)"
   ]
  },
  {
   "cell_type": "code",
   "execution_count": 39,
   "metadata": {},
   "outputs": [
    {
     "name": "stdout",
     "output_type": "stream",
     "text": [
      ">acc=18.680, est=18.676, cfg={'alpha': 0.0001}\n",
      ">acc=17.462, est=19.600, cfg={'alpha': 0.0001}\n",
      ">acc=18.579, est=18.758, cfg={'alpha': 0.0001}\n",
      ">acc=20.877, est=19.179, cfg={'alpha': 0.0001}\n",
      ">acc=15.170, est=20.927, cfg={'alpha': 0.0001}\n"
     ]
    }
   ],
   "source": [
    "logistic_scores, logistic_params = logistic_CV(X.iloc[:,1:],y)"
   ]
  },
  {
   "cell_type": "code",
   "execution_count": null,
   "metadata": {},
   "outputs": [],
   "source": [
    "rf_scores, rf_params = rf_CV(X.iloc[:,1:],y)"
   ]
  },
  {
   "cell_type": "code",
   "execution_count": null,
   "metadata": {},
   "outputs": [],
   "source": [
    "XGB_scores, XGB_params = XGB_CV(X.iloc[:,1:],y)"
   ]
  },
  {
   "cell_type": "code",
   "execution_count": 35,
   "metadata": {},
   "outputs": [],
   "source": [
    "dummy_scores = dummy_CV(X.iloc[:,1:],y)"
   ]
  },
  {
   "attachments": {},
   "cell_type": "markdown",
   "metadata": {},
   "source": [
    "# Plot"
   ]
  },
  {
   "cell_type": "code",
   "execution_count": 37,
   "metadata": {},
   "outputs": [
    {
     "name": "stdout",
     "output_type": "stream",
     "text": [
      "Logistic Regression statistic=60 and p-value=0.0973\n",
      "Lasso mean=16 and ref mean=15.6452\n"
     ]
    }
   ],
   "source": [
    "from scipy.stats import wilcoxon\n",
    "print('Logistic Regression statistic=%.0f and p-value=%.4f' % (wilcoxon(lasso_scores,ref_scores, alternative='two-sided')))\n",
    "print('Lasso mean=%.0f and ref mean=%.4f' % (np.mean(lasso_scores), np.mean(ref_scores)))"
   ]
  },
  {
   "cell_type": "code",
   "execution_count": 67,
   "metadata": {},
   "outputs": [
    {
     "data": {
      "image/png": "[encoded data removed]",
      "text/plain": [
       "<Figure size 640x480 with 1 Axes>"
      ]
     },
     "metadata": {},
     "output_type": "display_data"
    }
   ],
   "source": [
    "data = [ref_scores, svm_scores, lasso_scores, rf_scores, XGB_scores]\n",
    "labels = ['Dummy', 'SVM', 'Linear', 'rf', 'XGB']\n",
    "\n",
    "plt.boxplot(data, labels=labels)\n",
    "plt.ylim(14.4,16.7)\n",
    "plt.ylabel('MSE')\n",
    "plt.xlabel('Method')\n",
    "plt.gca().invert_yaxis()\n",
    "\n",
    "plt.show()"
   ]
  }
 ],
 "metadata": {
  "kernelspec": {
   "display_name": "myenvyaml",
   "language": "python",
   "name": "python3"
  },
  "language_info": {
   "codemirror_mode": {
    "name": "ipython",
    "version": 3
   },
   "file_extension": ".py",
   "mimetype": "text/x-python",
   "name": "python",
   "nbconvert_exporter": "python",
   "pygments_lexer": "ipython3",
   "version": "3.11.2"
  },
  "orig_nbformat": 4,
  "vscode": {
   "interpreter": {
    "hash": "72597f99bc2163ae545466629695ca805d41b2440924b75a489a65d0a29c0e42"
   }
  }
 },
 "nbformat": 4,
 "nbformat_minor": 2
}

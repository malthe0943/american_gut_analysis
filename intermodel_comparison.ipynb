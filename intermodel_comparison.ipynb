{
 "cells": [
  {
   "cell_type": "code",
   "execution_count": 2,
   "metadata": {},
   "outputs": [],
   "source": [
    "import numpy as np\n",
    "import pandas as pd\n",
    "from scipy.stats import wilcoxon"
   ]
  },
  {
   "cell_type": "code",
   "execution_count": 6,
   "metadata": {},
   "outputs": [],
   "source": [
    "%store -r vegetable_frequency_svm\n",
    "%store -r vegetable_frequency_log\n",
    "%store -r vegetable_frequency_rf\n",
    "%store -r vegetable_frequency_XGB\n",
    "%store -r exercise_frequency_svm\n",
    "%store -r exercise_frequency_log\n",
    "%store -r exercise_frequency_rf\n",
    "%store -r exercise_frequency_XGB\n",
    "%store -r sugary_sweets_frequency_svm\n",
    "%store -r sugary_sweets_frequency_log\n",
    "%store -r sugary_sweets_frequency_rf\n",
    "%store -r sugary_sweets_frequency_XGB\n",
    "%store -r sleep_duration_svm\n",
    "%store -r sleep_duration_log\n",
    "%store -r sleep_duration_rf\n",
    "%store -r sleep_duration_XGB\n",
    "%store -r types_of_plants_svm\n",
    "%store -r types_of_plants_log\n",
    "%store -r types_of_plants_rf\n",
    "%store -r types_of_plants_XGB"
   ]
  },
  {
   "cell_type": "code",
   "execution_count": 9,
   "metadata": {},
   "outputs": [],
   "source": [
    "svm_scores = vegetable_frequency_svm+exercise_frequency_svm+sugary_sweets_frequency_svm+sleep_duration_svm+types_of_plants_svm\n",
    "log_scores = vegetable_frequency_log+exercise_frequency_log+sugary_sweets_frequency_log+sleep_duration_log+types_of_plants_log\n",
    "rf_scores = vegetable_frequency_rf+exercise_frequency_rf+sugary_sweets_frequency_rf+sleep_duration_rf+types_of_plants_rf\n",
    "XGB_scores = vegetable_frequency_XGB+exercise_frequency_XGB+sugary_sweets_frequency_XGB+sleep_duration_XGB+types_of_plants_XGB"
   ]
  },
  {
   "cell_type": "code",
   "execution_count": 21,
   "metadata": {},
   "outputs": [
    {
     "name": "stdout",
     "output_type": "stream",
     "text": [
      "Statistic=615 and p-value=3.99e-09\n",
      "Statistic=624 and p-value=4.07e-10\n",
      "Statistic=630 and p-value=2.91e-11\n"
     ]
    }
   ],
   "source": [
    "print('Statistic=%.0f and p-value=%.3g' % (wilcoxon(svm_scores,log_scores, alternative='greater')))\n",
    "print('Statistic=%.0f and p-value=%.3g' % (wilcoxon(svm_scores,rf_scores, alternative='greater')))\n",
    "print('Statistic=%.0f and p-value=%.3g' % (wilcoxon(svm_scores,XGB_scores, alternative='greater')))"
   ]
  }
 ],
 "metadata": {
  "kernelspec": {
   "display_name": "myenvyaml",
   "language": "python",
   "name": "python3"
  },
  "language_info": {
   "codemirror_mode": {
    "name": "ipython",
    "version": 3
   },
   "file_extension": ".py",
   "mimetype": "text/x-python",
   "name": "python",
   "nbconvert_exporter": "python",
   "pygments_lexer": "ipython3",
   "version": "3.11.2"
  },
  "orig_nbformat": 4
 },
 "nbformat": 4,
 "nbformat_minor": 2
}
